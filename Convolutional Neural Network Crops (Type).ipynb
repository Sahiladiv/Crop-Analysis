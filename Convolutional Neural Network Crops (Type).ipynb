{
 "cells": [
  {
   "cell_type": "code",
   "execution_count": 32,
   "id": "c2b5ef73",
   "metadata": {},
   "outputs": [],
   "source": [
    "import pickle\n",
    "import tensorflow as tf\n",
    "from tensorflow.keras.models import Sequential\n",
    "from tensorflow.keras.layers import Dense, Dropout, Activation, Flatten, Conv2D, MaxPooling2D\n",
    "import keras"
   ]
  },
  {
   "cell_type": "code",
   "execution_count": 33,
   "id": "114799f9",
   "metadata": {},
   "outputs": [],
   "source": [
    "X = pickle.load(open(\"features_of_plant.pickle\",\"rb\"))\n",
    "y = pickle.load(open(\"labels_of_plants.pickle\",\"rb\"))"
   ]
  },
  {
   "cell_type": "code",
   "execution_count": 34,
   "id": "5fc3cc64",
   "metadata": {},
   "outputs": [],
   "source": [
    "model = Sequential()\n",
    "X = X/255.0"
   ]
  },
  {
   "cell_type": "code",
   "execution_count": 35,
   "id": "3d01422e",
   "metadata": {},
   "outputs": [],
   "source": [
    "model.add(Conv2D(256, (3,3) ,input_shape = X.shape[1:]))\n",
    "model.add(Activation(\"relu\"))\n",
    "model.add(MaxPooling2D(pool_size=(2,2)))"
   ]
  },
  {
   "cell_type": "code",
   "execution_count": 36,
   "id": "a7275085",
   "metadata": {},
   "outputs": [],
   "source": [
    "model.add(Conv2D(256, (3,3)))\n",
    "model.add(Activation(\"relu\"))\n",
    "model.add(MaxPooling2D(pool_size=(2,2)))"
   ]
  },
  {
   "cell_type": "code",
   "execution_count": 37,
   "id": "8c3b3d69",
   "metadata": {},
   "outputs": [],
   "source": [
    "model.add(Conv2D(128, (4,4)))\n",
    "model.add(Activation(\"relu\"))\n",
    "model.add(MaxPooling2D(pool_size=(3,3)))"
   ]
  },
  {
   "cell_type": "code",
   "execution_count": 38,
   "id": "79ca7eb2",
   "metadata": {},
   "outputs": [],
   "source": [
    "model.add(Flatten())\n",
    "model.add(Dense(512))\n",
    "model.add(Activation(\"relu\"))"
   ]
  },
  {
   "cell_type": "code",
   "execution_count": 39,
   "id": "c6dbbf42",
   "metadata": {},
   "outputs": [],
   "source": [
    "model.add(tf.keras.layers.Dense(6, activation=tf.nn.softmax))"
   ]
  },
  {
   "cell_type": "code",
   "execution_count": 40,
   "id": "7f58a439",
   "metadata": {},
   "outputs": [
    {
     "name": "stdout",
     "output_type": "stream",
     "text": [
      "Epoch 1/7\n",
      "325/325 [==============================] - 531s 2s/step - loss: 1.0119 - accuracy: 0.6158 - val_loss: 0.6115 - val_accuracy: 0.7651\n",
      "Epoch 2/7\n",
      "325/325 [==============================] - 589s 2s/step - loss: 0.4746 - accuracy: 0.8271 - val_loss: 0.3914 - val_accuracy: 0.8490\n",
      "Epoch 3/7\n",
      "325/325 [==============================] - 552s 2s/step - loss: 0.3155 - accuracy: 0.8861 - val_loss: 0.3079 - val_accuracy: 0.8922\n",
      "Epoch 4/7\n",
      "325/325 [==============================] - 530s 2s/step - loss: 0.2242 - accuracy: 0.9213 - val_loss: 0.2218 - val_accuracy: 0.9197\n",
      "Epoch 5/7\n",
      "325/325 [==============================] - 526s 2s/step - loss: 0.1657 - accuracy: 0.9417 - val_loss: 0.2077 - val_accuracy: 0.9297\n",
      "Epoch 6/7\n",
      "325/325 [==============================] - 622s 2s/step - loss: 0.1333 - accuracy: 0.9526 - val_loss: 0.2849 - val_accuracy: 0.9011\n",
      "Epoch 7/7\n",
      "325/325 [==============================] - 504s 2s/step - loss: 0.1071 - accuracy: 0.9611 - val_loss: 0.2112 - val_accuracy: 0.9323\n"
     ]
    },
    {
     "data": {
      "text/plain": [
       "<keras.callbacks.History at 0x2e3433f2ca0>"
      ]
     },
     "execution_count": 40,
     "metadata": {},
     "output_type": "execute_result"
    }
   ],
   "source": [
    "model.compile(optimizer='adam', loss='sparse_categorical_crossentropy',metrics=['accuracy'])\n",
    "model.fit(X,y,epochs=7, batch_size=64, validation_split=0.3)"
   ]
  },
  {
   "cell_type": "code",
   "execution_count": 41,
   "id": "cd27ca1c",
   "metadata": {},
   "outputs": [
    {
     "name": "stdout",
     "output_type": "stream",
     "text": [
      "INFO:tensorflow:Assets written to: Type_of_crop.model\\assets\n"
     ]
    },
    {
     "name": "stderr",
     "output_type": "stream",
     "text": [
      "INFO:tensorflow:Assets written to: Type_of_crop.model\\assets\n"
     ]
    }
   ],
   "source": [
    "model.save('Type_of_crop.model')"
   ]
  }
 ],
 "metadata": {
  "kernelspec": {
   "display_name": "Python 3",
   "language": "python",
   "name": "python3"
  },
  "language_info": {
   "codemirror_mode": {
    "name": "ipython",
    "version": 3
   },
   "file_extension": ".py",
   "mimetype": "text/x-python",
   "name": "python",
   "nbconvert_exporter": "python",
   "pygments_lexer": "ipython3",
   "version": "3.9.0"
  }
 },
 "nbformat": 4,
 "nbformat_minor": 5
}
