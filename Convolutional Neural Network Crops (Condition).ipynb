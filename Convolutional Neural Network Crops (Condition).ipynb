{
 "cells": [
  {
   "cell_type": "code",
   "execution_count": 1,
   "id": "c2b5ef73",
   "metadata": {},
   "outputs": [],
   "source": [
    "import pickle\n",
    "import tensorflow as tf\n",
    "from tensorflow.keras.models import Sequential\n",
    "from tensorflow.keras.layers import Dense, Dropout, Activation, Flatten, Conv2D, MaxPooling2D\n",
    "import keras\n",
    "from tensorflow.keras import layers, regularizers\n",
    "from sklearn.model_selection import train_test_split"
   ]
  },
  {
   "cell_type": "code",
   "execution_count": 2,
   "id": "114799f9",
   "metadata": {},
   "outputs": [],
   "source": [
    "X = pickle.load(open(\"condition_features_of_plant.pickle\",\"rb\"))\n",
    "y = pickle.load(open(\"condition_labels_of_plants.pickle\",\"rb\"))\n",
    "\n",
    "X_train, X_test, y_train, y_test = train_test_split( X, y, test_size=0.33, random_state=42)\n"
   ]
  },
  {
   "cell_type": "code",
   "execution_count": 3,
   "id": "5fc3cc64",
   "metadata": {},
   "outputs": [],
   "source": [
    "X = X/255.0"
   ]
  },
  {
   "cell_type": "code",
   "execution_count": 4,
   "id": "19f6f2a4",
   "metadata": {},
   "outputs": [],
   "source": [
    "model = Sequential()\n",
    "model.add(Conv2D(32, (3,3) ,input_shape = (50,50,3),padding='same', kernel_regularizer = regularizers.l2(0.01)))\n",
    "model.add(Activation(\"relu\"))\n",
    "model.add(MaxPooling2D(pool_size=(2,2)))"
   ]
  },
  {
   "cell_type": "code",
   "execution_count": 5,
   "id": "3f779dd2",
   "metadata": {},
   "outputs": [],
   "source": [
    "model.add(Conv2D(32, (3,3),padding='same', kernel_regularizer = regularizers.l2(0.01)))\n",
    "model.add(Activation(\"relu\"))\n",
    "model.add(MaxPooling2D(pool_size=(2,2)))"
   ]
  },
  {
   "cell_type": "code",
   "execution_count": 6,
   "id": "3945c378",
   "metadata": {},
   "outputs": [],
   "source": [
    "model.add(Conv2D(64, (3,3),padding='same', kernel_regularizer = regularizers.l2(0.01)))\n",
    "model.add(Activation(\"relu\"))\n",
    "model.add(MaxPooling2D(pool_size=(3,3)))"
   ]
  },
  {
   "cell_type": "code",
   "execution_count": 7,
   "id": "b329ec75",
   "metadata": {},
   "outputs": [],
   "source": [
    "model.add(Flatten())\n",
    "model.add(Dense(128))\n",
    "model.add(Activation(\"relu\"))"
   ]
  },
  {
   "cell_type": "code",
   "execution_count": 8,
   "id": "7097a919",
   "metadata": {},
   "outputs": [],
   "source": [
    "model.add(tf.keras.layers.Dense(16, activation=tf.nn.softmax))"
   ]
  },
  {
   "cell_type": "code",
   "execution_count": 9,
   "id": "90aaa847",
   "metadata": {
    "scrolled": false
   },
   "outputs": [],
   "source": [
    "model.compile(optimizer='adam', loss='sparse_categorical_crossentropy',metrics=['accuracy'])\n"
   ]
  },
  {
   "cell_type": "code",
   "execution_count": 10,
   "id": "f85729e4",
   "metadata": {},
   "outputs": [
    {
     "name": "stdout",
     "output_type": "stream",
     "text": [
      "Epoch 1/25\n",
      "435/435 [==============================] - 40s 86ms/step - loss: 2.5360 - accuracy: 0.5893 - val_loss: 1.2795 - val_accuracy: 0.7590\n",
      "Epoch 2/25\n",
      "435/435 [==============================] - 37s 85ms/step - loss: 1.0449 - accuracy: 0.8169 - val_loss: 0.8561 - val_accuracy: 0.8778\n",
      "Epoch 3/25\n",
      "435/435 [==============================] - 35s 79ms/step - loss: 0.8189 - accuracy: 0.8679 - val_loss: 0.7316 - val_accuracy: 0.8824\n",
      "Epoch 4/25\n",
      "435/435 [==============================] - 35s 81ms/step - loss: 0.6637 - accuracy: 0.8968 - val_loss: 0.6865 - val_accuracy: 0.8825\n",
      "Epoch 5/25\n",
      "435/435 [==============================] - 36s 82ms/step - loss: 0.5567 - accuracy: 0.9164 - val_loss: 0.6203 - val_accuracy: 0.8842\n",
      "Epoch 6/25\n",
      "435/435 [==============================] - 36s 83ms/step - loss: 0.5112 - accuracy: 0.9181 - val_loss: 0.5139 - val_accuracy: 0.9169\n",
      "Epoch 7/25\n",
      "435/435 [==============================] - 37s 84ms/step - loss: 0.4301 - accuracy: 0.9355 - val_loss: 0.5135 - val_accuracy: 0.9090\n",
      "Epoch 8/25\n",
      "435/435 [==============================] - 35s 80ms/step - loss: 0.4061 - accuracy: 0.9359 - val_loss: 0.4155 - val_accuracy: 0.9252\n",
      "Epoch 9/25\n",
      "435/435 [==============================] - 41s 93ms/step - loss: 0.3854 - accuracy: 0.9343 - val_loss: 0.4749 - val_accuracy: 0.9109\n",
      "Epoch 10/25\n",
      "435/435 [==============================] - 42s 98ms/step - loss: 0.3507 - accuracy: 0.9425 - val_loss: 0.4388 - val_accuracy: 0.9129\n",
      "Epoch 11/25\n",
      "435/435 [==============================] - 34s 79ms/step - loss: 0.3061 - accuracy: 0.9527 - val_loss: 0.5088 - val_accuracy: 0.8830\n",
      "Epoch 12/25\n",
      "435/435 [==============================] - 33s 77ms/step - loss: 0.3381 - accuracy: 0.9388 - val_loss: 0.4513 - val_accuracy: 0.9005\n",
      "Epoch 13/25\n",
      "435/435 [==============================] - 32s 75ms/step - loss: 0.3128 - accuracy: 0.9443 - val_loss: 0.3777 - val_accuracy: 0.9228\n",
      "Epoch 14/25\n",
      "435/435 [==============================] - 33s 75ms/step - loss: 0.2974 - accuracy: 0.9483 - val_loss: 0.4172 - val_accuracy: 0.9191\n",
      "Epoch 15/25\n",
      "435/435 [==============================] - 32s 74ms/step - loss: 0.2804 - accuracy: 0.9539 - val_loss: 0.3839 - val_accuracy: 0.9196\n",
      "Epoch 16/25\n",
      "435/435 [==============================] - 33s 75ms/step - loss: 0.2458 - accuracy: 0.9593 - val_loss: 0.3444 - val_accuracy: 0.9307\n",
      "Epoch 17/25\n",
      "435/435 [==============================] - 32s 74ms/step - loss: 0.2677 - accuracy: 0.9535 - val_loss: 0.3988 - val_accuracy: 0.9127\n",
      "Epoch 18/25\n",
      "435/435 [==============================] - 32s 74ms/step - loss: 0.2491 - accuracy: 0.9614 - val_loss: 0.3592 - val_accuracy: 0.9277\n",
      "Epoch 19/25\n",
      "435/435 [==============================] - 33s 75ms/step - loss: 0.2536 - accuracy: 0.9572 - val_loss: 0.3261 - val_accuracy: 0.9372\n",
      "Epoch 20/25\n",
      "435/435 [==============================] - 32s 75ms/step - loss: 0.2263 - accuracy: 0.9660 - val_loss: 0.3352 - val_accuracy: 0.9317\n",
      "Epoch 21/25\n",
      "435/435 [==============================] - 33s 77ms/step - loss: 0.2219 - accuracy: 0.9666 - val_loss: 0.3698 - val_accuracy: 0.9260\n",
      "Epoch 22/25\n",
      "435/435 [==============================] - 33s 75ms/step - loss: 0.2318 - accuracy: 0.9614 - val_loss: 0.3784 - val_accuracy: 0.9216\n",
      "Epoch 23/25\n",
      "435/435 [==============================] - 32s 74ms/step - loss: 0.2082 - accuracy: 0.9692 - val_loss: 0.3858 - val_accuracy: 0.9226\n",
      "Epoch 24/25\n",
      "435/435 [==============================] - 32s 75ms/step - loss: 0.2252 - accuracy: 0.9649 - val_loss: 0.3391 - val_accuracy: 0.9346\n",
      "Epoch 25/25\n",
      "435/435 [==============================] - 33s 75ms/step - loss: 0.2174 - accuracy: 0.9651 - val_loss: 0.3580 - val_accuracy: 0.9292\n"
     ]
    },
    {
     "data": {
      "text/plain": [
       "<keras.callbacks.History at 0x1a13b678b50>"
      ]
     },
     "execution_count": 10,
     "metadata": {},
     "output_type": "execute_result"
    }
   ],
   "source": [
    "model.fit(X_train,y_train,epochs=25, batch_size=32, validation_split=0.3)"
   ]
  },
  {
   "cell_type": "code",
   "execution_count": 11,
   "id": "cd27ca1c",
   "metadata": {
    "scrolled": true
   },
   "outputs": [
    {
     "name": "stdout",
     "output_type": "stream",
     "text": [
      "INFO:tensorflow:Assets written to: Condition_of_crops.model\\assets\n"
     ]
    }
   ],
   "source": [
    "model.save('Condition_of_crops.model')"
   ]
  },
  {
   "cell_type": "code",
   "execution_count": 12,
   "id": "83c4c0a4",
   "metadata": {},
   "outputs": [
    {
     "name": "stdout",
     "output_type": "stream",
     "text": [
      "Model: \"sequential\"\n",
      "_________________________________________________________________\n",
      " Layer (type)                Output Shape              Param #   \n",
      "=================================================================\n",
      " conv2d (Conv2D)             (None, 50, 50, 32)        896       \n",
      "                                                                 \n",
      " activation (Activation)     (None, 50, 50, 32)        0         \n",
      "                                                                 \n",
      " max_pooling2d (MaxPooling2D  (None, 25, 25, 32)       0         \n",
      " )                                                               \n",
      "                                                                 \n",
      " conv2d_1 (Conv2D)           (None, 25, 25, 32)        9248      \n",
      "                                                                 \n",
      " activation_1 (Activation)   (None, 25, 25, 32)        0         \n",
      "                                                                 \n",
      " max_pooling2d_1 (MaxPooling  (None, 12, 12, 32)       0         \n",
      " 2D)                                                             \n",
      "                                                                 \n",
      " conv2d_2 (Conv2D)           (None, 12, 12, 64)        18496     \n",
      "                                                                 \n",
      " activation_2 (Activation)   (None, 12, 12, 64)        0         \n",
      "                                                                 \n",
      " max_pooling2d_2 (MaxPooling  (None, 4, 4, 64)         0         \n",
      " 2D)                                                             \n",
      "                                                                 \n",
      " flatten (Flatten)           (None, 1024)              0         \n",
      "                                                                 \n",
      " dense (Dense)               (None, 128)               131200    \n",
      "                                                                 \n",
      " activation_3 (Activation)   (None, 128)               0         \n",
      "                                                                 \n",
      " dense_1 (Dense)             (None, 16)                2064      \n",
      "                                                                 \n",
      "=================================================================\n",
      "Total params: 161,904\n",
      "Trainable params: 161,904\n",
      "Non-trainable params: 0\n",
      "_________________________________________________________________\n"
     ]
    }
   ],
   "source": [
    "model.summary()"
   ]
  },
  {
   "cell_type": "code",
   "execution_count": 13,
   "id": "74231af0",
   "metadata": {},
   "outputs": [],
   "source": [
    "# model = Sequential()\n",
    "\n",
    "# model.add(Conv2D(32, 3, activation=\"relu\"))\n",
    "# model.add(MaxPooling2D())\n",
    "\n",
    "# model.add(Conv2D(64, 3, activation=\"relu\"))\n",
    "# model.add(MaxPooling2D())\n",
    "# model.add(Dense(64, activation=tf.nn.softmax))\n",
    "\n",
    "# model.add(Conv2D(64, 3, activation=\"relu\"))\n",
    "# model.add(MaxPooling2D())\n",
    "# model.add(Dense(64, activation=tf.nn.softmax))\n",
    "\n",
    "# model.add(Flatten())\n",
    "\n",
    "# model.add(Dense(64, activation=tf.nn.softmax))"
   ]
  },
  {
   "cell_type": "code",
   "execution_count": 14,
   "id": "eadc377d",
   "metadata": {},
   "outputs": [],
   "source": [
    "\n",
    "# y = layers.Conv2D(512, (3,3), activation=\"relu\")(inputs)\n",
    "# y = layers.BatchNormalization()(y)\n",
    "# y = layers.Activation(\"relu\")(y)\n",
    "# y = layers.MaxPool2D(2,2)(y)\n",
    "\n",
    "\n",
    "# y = layers.Conv2D(128, (3,3), activation=\"relu\")(y)\n",
    "# y = layers.BatchNormalization()(y)\n",
    "# y = layers.Activation(\"relu\")(y)\n",
    "# y = layers.MaxPool2D(2,2)(y)\n",
    "\n",
    "# y = layers.Flatten()(y)\n",
    "# y = layers.Dense(20, activation=\"relu\")(y)\n",
    "    \n",
    "# outputs = layers.Dense(14)(y)"
   ]
  },
  {
   "cell_type": "code",
   "execution_count": 15,
   "id": "1ac3b4c5",
   "metadata": {},
   "outputs": [],
   "source": [
    "# inputs = keras.Input(shape = X.shape[1:])\n",
    "\n",
    "# y = layers.Conv2D(32, (3,3), activation=\"relu\")(inputs)\n",
    "# y = layers.Activation(\"relu\")(y)\n",
    "# y = layers.MaxPool2D(2,2)(y)\n",
    "\n",
    "\n",
    "# y = layers.Conv2D(16, (3,3), activation=\"relu\")(y)\n",
    "# y = layers.Activation(\"relu\")(y)\n",
    "# y = layers.MaxPool2D(2,2)(y)\n",
    "\n",
    "# y = layers.Conv2D(16, (3,3), activation=\"relu\")(y)\n",
    "# y = layers.Activation(\"relu\")(y)\n",
    "# y = layers.MaxPool2D(2,2)(y)\n",
    "\n",
    "\n",
    "# y = layers.Flatten()(y)\n",
    "# y = layers.Dense(32, activation=\"relu\")(y)\n",
    "\n",
    "# outputs = layers.Dense(16)(y)\n",
    "\n",
    "# model = keras.Model(inputs = inputs, outputs = outputs)"
   ]
  }
 ],
 "metadata": {
  "kernelspec": {
   "display_name": "Python 3",
   "language": "python",
   "name": "python3"
  },
  "language_info": {
   "codemirror_mode": {
    "name": "ipython",
    "version": 3
   },
   "file_extension": ".py",
   "mimetype": "text/x-python",
   "name": "python",
   "nbconvert_exporter": "python",
   "pygments_lexer": "ipython3",
   "version": "3.9.0"
  }
 },
 "nbformat": 4,
 "nbformat_minor": 5
}
