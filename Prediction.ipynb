{
 "cells": [
  {
   "cell_type": "code",
   "execution_count": 742,
   "id": "30d21aff",
   "metadata": {},
   "outputs": [],
   "source": [
    "import numpy\n",
    "import cv2\n",
    "import tensorflow as tf\n",
    "import os\n",
    "import keras"
   ]
  },
  {
   "cell_type": "code",
   "execution_count": 743,
   "id": "d8a30030",
   "metadata": {},
   "outputs": [],
   "source": [
    "folder_path = \"Images/All Plants\"\n",
    "CATEGORIES_OF_CROPS = os.listdir(folder_path)\n",
    "\n",
    "folder_path = \"Images/Condition\"\n",
    "CONDITION_OF_CROPS = os.listdir(folder_path)"
   ]
  },
  {
   "cell_type": "code",
   "execution_count": 744,
   "id": "03d8f6c1",
   "metadata": {},
   "outputs": [],
   "source": [
    "def prepare1(filepath):\n",
    "    img_array = cv2.imread(filepath, cv2.IMREAD_GRAYSCALE)\n",
    "    dim = (50,50)\n",
    "    try:\n",
    "        img_array = cv2.resize(img_array, dim)\n",
    "        return img_array.reshape(-1,50,50,1)\n",
    "    except Exception:\n",
    "        pass\n",
    "    return -1"
   ]
  },
  {
   "cell_type": "code",
   "execution_count": 745,
   "id": "87c18d9c",
   "metadata": {},
   "outputs": [],
   "source": [
    "type_of_crop_model = tf.keras.models.load_model(\"Type_of_crop.model\")\n",
    "condition_of_crop_model = tf.keras.models.load_model(\"Condition_of_crops.model\")"
   ]
  },
  {
   "cell_type": "code",
   "execution_count": 746,
   "id": "82d1a835",
   "metadata": {},
   "outputs": [],
   "source": [
    "prediction = type_of_crop_model.predict([prepare1('A2.jpg')])"
   ]
  },
  {
   "cell_type": "code",
   "execution_count": 747,
   "id": "ba7cbb12",
   "metadata": {},
   "outputs": [],
   "source": [
    "max_prediction_value = prediction.max()"
   ]
  },
  {
   "cell_type": "code",
   "execution_count": 748,
   "id": "6f370062",
   "metadata": {},
   "outputs": [],
   "source": [
    "prediction_list = prediction.tolist()\n",
    "prediction_list = prediction_list[0]"
   ]
  },
  {
   "cell_type": "code",
   "execution_count": 749,
   "id": "80d47c95",
   "metadata": {},
   "outputs": [],
   "source": [
    "index = prediction_list.index(max_prediction_value)"
   ]
  },
  {
   "cell_type": "code",
   "execution_count": 750,
   "id": "c4cb2d43",
   "metadata": {
    "scrolled": true
   },
   "outputs": [
    {
     "data": {
      "text/plain": [
       "'Blueberry'"
      ]
     },
     "execution_count": 750,
     "metadata": {},
     "output_type": "execute_result"
    }
   ],
   "source": [
    "CATEGORIES_OF_CROPS[index]"
   ]
  },
  {
   "cell_type": "code",
   "execution_count": 751,
   "id": "a4f5e6ca",
   "metadata": {},
   "outputs": [],
   "source": [
    "def prepare2(filepath):\n",
    "    img_array = cv2.imread(filepath)\n",
    "    dim = (50,50)\n",
    "    try:\n",
    "        img_array = cv2.resize(img_array, dim)\n",
    "        return img_array.reshape(-1,50,50,3)\n",
    "    except Exception:\n",
    "        pass\n",
    "    return -1"
   ]
  },
  {
   "cell_type": "code",
   "execution_count": 752,
   "id": "6a3197f7",
   "metadata": {},
   "outputs": [],
   "source": [
    "prediction = condition_of_crop_model.predict([prepare2('Cedar Apple Rust.jpg')])\n"
   ]
  },
  {
   "cell_type": "code",
   "execution_count": 753,
   "id": "c46c3137",
   "metadata": {},
   "outputs": [
    {
     "data": {
      "text/plain": [
       "0.76362926"
      ]
     },
     "execution_count": 753,
     "metadata": {},
     "output_type": "execute_result"
    }
   ],
   "source": [
    "max_prediction_value = prediction.max()\n",
    "max_prediction_value"
   ]
  },
  {
   "cell_type": "code",
   "execution_count": 754,
   "id": "141333a4",
   "metadata": {},
   "outputs": [],
   "source": [
    "prediction_list = prediction.astype(float).tolist()\n",
    "# # prediction_list = prediction_list[0]\n",
    "# index = prediction.all()\n",
    "prediction_list = prediction_list[0]\n",
    "\n",
    "max_term = max(prediction_list)\n",
    "\n",
    "index = prediction_list.index(max_term)"
   ]
  },
  {
   "cell_type": "code",
   "execution_count": 755,
   "id": "150a6251",
   "metadata": {},
   "outputs": [
    {
     "data": {
      "text/plain": [
       "'Cedar Apple Rust'"
      ]
     },
     "execution_count": 755,
     "metadata": {},
     "output_type": "execute_result"
    }
   ],
   "source": [
    "CONDITION_OF_CROPS[index]"
   ]
  },
  {
   "cell_type": "code",
   "execution_count": null,
   "id": "3b1f7a16",
   "metadata": {},
   "outputs": [],
   "source": []
  },
  {
   "cell_type": "code",
   "execution_count": null,
   "id": "86e590b2",
   "metadata": {},
   "outputs": [],
   "source": []
  }
 ],
 "metadata": {
  "kernelspec": {
   "display_name": "Python 3",
   "language": "python",
   "name": "python3"
  },
  "language_info": {
   "codemirror_mode": {
    "name": "ipython",
    "version": 3
   },
   "file_extension": ".py",
   "mimetype": "text/x-python",
   "name": "python",
   "nbconvert_exporter": "python",
   "pygments_lexer": "ipython3",
   "version": "3.9.0"
  }
 },
 "nbformat": 4,
 "nbformat_minor": 5
}
